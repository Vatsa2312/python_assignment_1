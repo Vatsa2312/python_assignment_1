{
 "cells": [
  {
   "cell_type": "code",
   "execution_count": null,
   "id": "7af4e4cc",
   "metadata": {},
   "outputs": [],
   "source": []
  },
  {
   "cell_type": "code",
   "execution_count": 2,
   "id": "6f14ab7c",
   "metadata": {},
   "outputs": [
    {
     "name": "stdout",
     "output_type": "stream",
     "text": [
      "Select operation.\n",
      "1.Add\n",
      "2.Subtract\n",
      "3.Multiply\n",
      "4.Divide\n",
      "Enter choice(1/2/3/4): 2\n",
      "Enter first number: 5\n",
      "Enter second number: 2\n",
      "5.0 - 2.0 = 3.0\n"
     ]
    }
   ],
   "source": [
    "def add(x, y):\n",
    "    return x + y\n",
    "def subtract(x, y):\n",
    "    return x - y\n",
    "def multiply(x, y):\n",
    "    return x * y\n",
    "def divide(x, y):\n",
    "    return x / y\n",
    "print(\"Select operation.\")\n",
    "print(\"1.Add\")\n",
    "print(\"2.Subtract\")\n",
    "print(\"3.Multiply\")\n",
    "print(\"4.Divide\")\n",
    "\n",
    "\n",
    "choice = input(\"Enter choice(1/2/3/4): \")\n",
    "if choice in ('1', '2', '3', '4'):\n",
    "        num1 = float(input(\"Enter first number: \"))\n",
    "        num2 = float(input(\"Enter second number: \"))\n",
    "\n",
    "        if choice == '1':\n",
    "            print(num1, \"+\", num2, \"=\", add(num1, num2))\n",
    "\n",
    "        elif choice == '2':\n",
    "            print(num1, \"-\", num2, \"=\", subtract(num1, num2))\n",
    "\n",
    "        elif choice == '3':\n",
    "            print(num1, \"*\", num2, \"=\", multiply(num1, num2))\n",
    "\n",
    "        elif choice == '4':\n",
    "            print(num1, \"/\", num2, \"=\", divide(num1, num2))\n",
    "      "
   ]
  },
  {
   "cell_type": "code",
   "execution_count": 3,
   "id": "0c80ba70",
   "metadata": {},
   "outputs": [
    {
     "name": "stdout",
     "output_type": "stream",
     "text": [
      "hello \n",
      "good evening\n",
      "good to see you study\n",
      "have a nice day\n",
      "thank you\n"
     ]
    }
   ],
   "source": [
    "myfile=open(\"file1.txt\",\"r\")\n",
    "print(myfile.read())"
   ]
  },
  {
   "cell_type": "code",
   "execution_count": 4,
   "id": "57bb129c",
   "metadata": {},
   "outputs": [
    {
     "name": "stdout",
     "output_type": "stream",
     "text": [
      "hello \n",
      "good evening\n",
      "good to see you study\n",
      "have a nice day\n",
      "thank you\n"
     ]
    }
   ],
   "source": [
    "myfile=open(\"file1.txt\",\"r+\")\n",
    "print(myfile.read())"
   ]
  },
  {
   "cell_type": "code",
   "execution_count": 18,
   "id": "2c54df57",
   "metadata": {},
   "outputs": [],
   "source": [
    "myfile=open('file1.txt','r+')\n",
    "myfile.write(\"good morning\")\n",
    "myfile.close()"
   ]
  },
  {
   "cell_type": "code",
   "execution_count": 21,
   "id": "75ae5815",
   "metadata": {},
   "outputs": [
    {
     "name": "stdout",
     "output_type": "stream",
     "text": [
      "good morning\n"
     ]
    }
   ],
   "source": [
    "myfile=open(\"file1.txt\",\"r\")\n",
    "print(myfile.read())"
   ]
  },
  {
   "cell_type": "code",
   "execution_count": 23,
   "id": "6cb19dc4",
   "metadata": {},
   "outputs": [],
   "source": [
    "myfile.close()"
   ]
  },
  {
   "cell_type": "code",
   "execution_count": 24,
   "id": "795ee27a",
   "metadata": {},
   "outputs": [
    {
     "data": {
      "text/plain": [
       "28"
      ]
     },
     "execution_count": 24,
     "metadata": {},
     "output_type": "execute_result"
    }
   ],
   "source": [
    "myfile=open(\"file1.txt\",\"w+\")\n",
    "myfile.write(\"it is a pleasure to meet you\")"
   ]
  },
  {
   "cell_type": "code",
   "execution_count": 26,
   "id": "1027a42d",
   "metadata": {},
   "outputs": [],
   "source": [
    "myfile.close()"
   ]
  },
  {
   "cell_type": "code",
   "execution_count": 27,
   "id": "7b374e9d",
   "metadata": {},
   "outputs": [
    {
     "name": "stdout",
     "output_type": "stream",
     "text": [
      "it is a pleasure to meet you\n"
     ]
    }
   ],
   "source": [
    "myfile=open(\"file1.txt\",\"r\")\n",
    "print(myfile.read())"
   ]
  },
  {
   "cell_type": "code",
   "execution_count": 31,
   "id": "5dc14496",
   "metadata": {},
   "outputs": [
    {
     "data": {
      "text/plain": [
       "19"
      ]
     },
     "execution_count": 31,
     "metadata": {},
     "output_type": "execute_result"
    }
   ],
   "source": [
    "myfile=open(\"file1.txt\",\"a+\")\n",
    "myfile.write(\"its been a good day\")"
   ]
  },
  {
   "cell_type": "code",
   "execution_count": 32,
   "id": "bdc21ce2",
   "metadata": {},
   "outputs": [],
   "source": [
    "myfile.close()"
   ]
  },
  {
   "cell_type": "code",
   "execution_count": 33,
   "id": "08255657",
   "metadata": {},
   "outputs": [
    {
     "name": "stdout",
     "output_type": "stream",
     "text": [
      "it is a pleasure to meet youit is a pleasure to meet youits been a good day\n"
     ]
    }
   ],
   "source": [
    "myfile=open(\"file1.txt\",\"r\")\n",
    "print(myfile.read())"
   ]
  },
  {
   "cell_type": "code",
   "execution_count": null,
   "id": "e562e8cf",
   "metadata": {},
   "outputs": [],
   "source": []
  }
 ],
 "metadata": {
  "kernelspec": {
   "display_name": "Python 3 (ipykernel)",
   "language": "python",
   "name": "python3"
  },
  "language_info": {
   "codemirror_mode": {
    "name": "ipython",
    "version": 3
   },
   "file_extension": ".py",
   "mimetype": "text/x-python",
   "name": "python",
   "nbconvert_exporter": "python",
   "pygments_lexer": "ipython3",
   "version": "3.9.12"
  }
 },
 "nbformat": 4,
 "nbformat_minor": 5
}
